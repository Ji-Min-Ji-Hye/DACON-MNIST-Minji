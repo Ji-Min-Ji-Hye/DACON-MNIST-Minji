{
 "cells": [
  {
   "cell_type": "markdown",
   "metadata": {},
   "source": [
    "## Python import"
   ]
  },
  {
   "cell_type": "code",
   "execution_count": 1,
   "metadata": {},
   "outputs": [],
   "source": [
    "import pandas as pd\n",
    "import numpy as np\n",
    "import matplotlib.pyplot as plt\n",
    "import warnings\n",
    "warnings.filterwarnings(\"ignore\")\n",
    "import tensorflow as tf"
   ]
  },
  {
   "cell_type": "code",
   "execution_count": 11,
   "metadata": {
    "scrolled": false
   },
   "outputs": [
    {
     "name": "stdout",
     "output_type": "stream",
     "text": [
      "[name: \"/device:CPU:0\"\n",
      "device_type: \"CPU\"\n",
      "memory_limit: 268435456\n",
      "locality {\n",
      "}\n",
      "incarnation: 5130640676813463624\n",
      ", name: \"/device:XLA_CPU:0\"\n",
      "device_type: \"XLA_CPU\"\n",
      "memory_limit: 17179869184\n",
      "locality {\n",
      "}\n",
      "incarnation: 11204608683023282173\n",
      "physical_device_desc: \"device: XLA_CPU device\"\n",
      ", name: \"/device:XLA_GPU:0\"\n",
      "device_type: \"XLA_GPU\"\n",
      "memory_limit: 17179869184\n",
      "locality {\n",
      "}\n",
      "incarnation: 4273059362391203620\n",
      "physical_device_desc: \"device: XLA_GPU device\"\n",
      "]\n"
     ]
    }
   ],
   "source": [
    "#gpu 사용확인\n",
    "from tensorflow.python.client import device_lib\n",
    "print(device_lib.list_local_devices())"
   ]
  },
  {
   "cell_type": "markdown",
   "metadata": {},
   "source": [
    "## Load Data"
   ]
  },
  {
   "cell_type": "code",
   "execution_count": 13,
   "metadata": {},
   "outputs": [],
   "source": [
    "train = pd.read_csv('data/train.csv')\n",
    "test = pd.read_csv('data/test.csv')"
   ]
  },
  {
   "cell_type": "markdown",
   "metadata": {},
   "source": [
    "## EDA"
   ]
  },
  {
   "cell_type": "code",
   "execution_count": 14,
   "metadata": {},
   "outputs": [
    {
     "data": {
      "image/png": "[encoded data removed]",
      "text/plain": [
       "<Figure size 432x288 with 1 Axes>"
      ]
     },
     "metadata": {
      "needs_background": "light"
     },
     "output_type": "display_data"
    }
   ],
   "source": [
    "idx = 45\n",
    "img = train.loc[idx, '0':].values.reshape(28, 28).astype(int)\n",
    "digit = train.loc[idx, 'digit']\n",
    "letter = train.loc[idx, 'letter']\n",
    "\n",
    "plt.title('Index: %i, Digit: %s, Letter: %s'%(idx, digit, letter))\n",
    "plt.imshow(img)\n",
    "plt.show()"
   ]
  },
  {
   "cell_type": "markdown",
   "metadata": {},
   "source": [
    "## Train model"
   ]
  },
  {
   "cell_type": "code",
   "execution_count": 15,
   "metadata": {},
   "outputs": [],
   "source": [
    "x_train = train.drop(['id', 'digit', 'letter'], axis=1).values\n",
    "x_train = x_train.reshape(-1, 28, 28, 1)\n",
    "x_train = x_train/255\n",
    "\n",
    "y = train['digit']\n",
    "y_train = np.zeros((len(y), len(y.unique())))\n",
    "for i, digit in enumerate(y):\n",
    "    y_train[i, digit] = 1"
   ]
  },
  {
   "cell_type": "code",
   "execution_count": 17,
   "metadata": {},
   "outputs": [],
   "source": [
    "def create_cnn_model(x_train):\n",
    "    inputs = tf.keras.layers.Input(x_train.shape[1:])\n",
    "\n",
    "    bn = tf.keras.layers.BatchNormalization()(inputs)\n",
    "    conv = tf.keras.layers.Conv2D(128, kernel_size=5, strides=1, padding='same', activation='relu')(bn)\n",
    "    bn = tf.keras.layers.BatchNormalization()(conv)\n",
    "    conv = tf.keras.layers.Conv2D(128, kernel_size=2, strides=1, padding='same', activation='relu')(bn)\n",
    "    pool = tf.keras.layers.MaxPooling2D((2, 2))(conv)\n",
    "\n",
    "    bn = tf.keras.layers.BatchNormalization()(pool)\n",
    "    conv = tf.keras.layers.Conv2D(256, kernel_size=2, strides=1, padding='same', activation='relu')(bn)\n",
    "    bn = tf.keras.layers.BatchNormalization()(conv)\n",
    "    conv = tf.keras.layers.Conv2D(256, kernel_size=2, strides=1, padding='same', activation='relu')(bn)\n",
    "    pool = tf.keras.layers.MaxPooling2D((2, 2))(conv)\n",
    "\n",
    "    flatten = tf.keras.layers.Flatten()(pool)\n",
    "\n",
    "    bn = tf.keras.layers.BatchNormalization()(flatten)\n",
    "    dense = tf.keras.layers.Dense(1000, activation='relu')(bn)\n",
    "\n",
    "    bn = tf.keras.layers.BatchNormalization()(dense)\n",
    "    outputs = tf.keras.layers.Dense(10, activation='softmax')(bn)\n",
    "\n",
    "    model = tf.keras.models.Model(inputs=inputs, outputs=outputs)\n",
    "\n",
    "    return model"
   ]
  },
  {
   "cell_type": "code",
   "execution_count": 18,
   "metadata": {
    "scrolled": true
   },
   "outputs": [
    {
     "name": "stdout",
     "output_type": "stream",
     "text": [
      "Epoch 1/100\n",
      "64/64 [==============================] - 17s 270ms/step - loss: 2.7465 - accuracy: 0.4351\n",
      "Epoch 2/100\n",
      "64/64 [==============================] - 18s 283ms/step - loss: 0.9205 - accuracy: 0.6919\n",
      "Epoch 3/100\n",
      "64/64 [==============================] - 17s 269ms/step - loss: 0.5056 - accuracy: 0.8350\n",
      "Epoch 4/100\n",
      "64/64 [==============================] - 17s 272ms/step - loss: 0.3190 - accuracy: 0.8916\n",
      "Epoch 5/100\n",
      "64/64 [==============================] - 17s 273ms/step - loss: 0.2449 - accuracy: 0.9131\n",
      "Epoch 6/100\n",
      "64/64 [==============================] - 17s 273ms/step - loss: 0.1480 - accuracy: 0.9507\n",
      "Epoch 7/100\n",
      "64/64 [==============================] - 18s 276ms/step - loss: 0.1129 - accuracy: 0.9634\n",
      "Epoch 8/100\n",
      "64/64 [==============================] - 17s 273ms/step - loss: 0.0761 - accuracy: 0.9775\n",
      "Epoch 9/100\n",
      "64/64 [==============================] - 18s 275ms/step - loss: 0.0554 - accuracy: 0.9839\n",
      "Epoch 10/100\n",
      "64/64 [==============================] - 17s 271ms/step - loss: 0.0436 - accuracy: 0.9893\n",
      "Epoch 11/100\n",
      "64/64 [==============================] - 17s 270ms/step - loss: 0.0564 - accuracy: 0.9834\n",
      "Epoch 12/100\n",
      "64/64 [==============================] - 17s 272ms/step - loss: 0.0963 - accuracy: 0.9668\n",
      "Epoch 13/100\n",
      "64/64 [==============================] - 17s 270ms/step - loss: 0.0747 - accuracy: 0.9712\n",
      "Epoch 14/100\n",
      "64/64 [==============================] - 17s 273ms/step - loss: 0.0938 - accuracy: 0.9663\n",
      "Epoch 15/100\n",
      "64/64 [==============================] - 17s 270ms/step - loss: 0.0784 - accuracy: 0.9761\n",
      "Epoch 16/100\n",
      "64/64 [==============================] - 17s 273ms/step - loss: 0.0619 - accuracy: 0.9805\n",
      "Epoch 17/100\n",
      "64/64 [==============================] - 18s 277ms/step - loss: 0.0701 - accuracy: 0.9746\n",
      "Epoch 18/100\n",
      "64/64 [==============================] - 17s 272ms/step - loss: 0.0369 - accuracy: 0.9888\n",
      "Epoch 19/100\n",
      "64/64 [==============================] - 17s 273ms/step - loss: 0.0342 - accuracy: 0.9912\n",
      "Epoch 20/100\n",
      "64/64 [==============================] - 18s 275ms/step - loss: 0.0335 - accuracy: 0.9897\n",
      "Epoch 21/100\n",
      "64/64 [==============================] - 18s 276ms/step - loss: 0.0184 - accuracy: 0.9932\n",
      "Epoch 22/100\n",
      "64/64 [==============================] - 18s 278ms/step - loss: 0.0410 - accuracy: 0.9888\n",
      "Epoch 23/100\n",
      "64/64 [==============================] - 17s 272ms/step - loss: 0.0619 - accuracy: 0.9766\n",
      "Epoch 24/100\n",
      "64/64 [==============================] - 17s 261ms/step - loss: 0.0514 - accuracy: 0.9814\n",
      "Epoch 25/100\n",
      "64/64 [==============================] - 17s 259ms/step - loss: 0.0662 - accuracy: 0.9775\n",
      "Epoch 26/100\n",
      "64/64 [==============================] - 17s 260ms/step - loss: 0.0635 - accuracy: 0.9766\n",
      "Epoch 27/100\n",
      "64/64 [==============================] - 17s 259ms/step - loss: 0.0457 - accuracy: 0.9824\n",
      "Epoch 28/100\n",
      "64/64 [==============================] - 17s 261ms/step - loss: 0.0463 - accuracy: 0.9858\n",
      "Epoch 29/100\n",
      "64/64 [==============================] - 17s 260ms/step - loss: 0.0275 - accuracy: 0.9897\n",
      "Epoch 30/100\n",
      "64/64 [==============================] - 17s 258ms/step - loss: 0.0281 - accuracy: 0.9927\n",
      "Epoch 31/100\n",
      "64/64 [==============================] - 17s 261ms/step - loss: 0.0276 - accuracy: 0.9922\n",
      "Epoch 32/100\n",
      "64/64 [==============================] - 17s 258ms/step - loss: 0.0261 - accuracy: 0.9912\n",
      "Epoch 33/100\n",
      "64/64 [==============================] - 17s 263ms/step - loss: 0.0066 - accuracy: 0.9980\n",
      "Epoch 34/100\n",
      "64/64 [==============================] - 17s 259ms/step - loss: 0.0053 - accuracy: 0.9985\n",
      "Epoch 35/100\n",
      "64/64 [==============================] - 17s 264ms/step - loss: 0.0022 - accuracy: 1.0000\n",
      "Epoch 36/100\n",
      "64/64 [==============================] - 17s 260ms/step - loss: 0.0012 - accuracy: 1.0000\n",
      "Epoch 37/100\n",
      "64/64 [==============================] - 17s 259ms/step - loss: 0.0040 - accuracy: 0.9990\n",
      "Epoch 38/100\n",
      "64/64 [==============================] - 17s 261ms/step - loss: 0.0071 - accuracy: 0.9980\n",
      "Epoch 39/100\n",
      "64/64 [==============================] - 17s 259ms/step - loss: 0.0042 - accuracy: 0.9990\n",
      "Epoch 40/100\n",
      "64/64 [==============================] - 17s 261ms/step - loss: 0.0024 - accuracy: 0.9995\n",
      "Epoch 41/100\n",
      "64/64 [==============================] - 17s 258ms/step - loss: 0.0012 - accuracy: 1.0000\n",
      "Epoch 42/100\n",
      "64/64 [==============================] - 17s 263ms/step - loss: 0.0017 - accuracy: 1.0000\n",
      "Epoch 43/100\n",
      "64/64 [==============================] - 17s 259ms/step - loss: 0.0026 - accuracy: 0.9990\n",
      "Epoch 44/100\n",
      "64/64 [==============================] - 17s 263ms/step - loss: 0.0104 - accuracy: 0.9976\n",
      "Epoch 45/100\n",
      "64/64 [==============================] - 17s 261ms/step - loss: 0.0157 - accuracy: 0.9976\n",
      "Epoch 46/100\n",
      "64/64 [==============================] - 17s 258ms/step - loss: 0.0372 - accuracy: 0.9897\n",
      "Epoch 47/100\n",
      "64/64 [==============================] - 17s 263ms/step - loss: 0.1468 - accuracy: 0.9531\n",
      "Epoch 48/100\n",
      "64/64 [==============================] - 17s 262ms/step - loss: 0.2433 - accuracy: 0.9282\n",
      "Epoch 49/100\n",
      "64/64 [==============================] - 17s 261ms/step - loss: 0.2345 - accuracy: 0.9312\n",
      "Epoch 50/100\n",
      "64/64 [==============================] - 17s 259ms/step - loss: 0.1041 - accuracy: 0.9683\n",
      "Epoch 51/100\n",
      "64/64 [==============================] - 17s 261ms/step - loss: 0.0554 - accuracy: 0.9780\n",
      "Epoch 52/100\n",
      "64/64 [==============================] - 17s 261ms/step - loss: 0.0371 - accuracy: 0.9897\n",
      "Epoch 53/100\n",
      "64/64 [==============================] - 17s 259ms/step - loss: 0.0134 - accuracy: 0.9956\n",
      "Epoch 54/100\n",
      "64/64 [==============================] - 17s 261ms/step - loss: 0.0075 - accuracy: 0.9980\n",
      "Epoch 55/100\n",
      "64/64 [==============================] - 17s 258ms/step - loss: 0.0087 - accuracy: 0.9980\n",
      "Epoch 56/100\n",
      "64/64 [==============================] - 17s 262ms/step - loss: 0.0039 - accuracy: 0.9995\n",
      "Epoch 57/100\n",
      "64/64 [==============================] - 17s 259ms/step - loss: 0.0026 - accuracy: 0.9995\n",
      "Epoch 58/100\n",
      "64/64 [==============================] - 17s 261ms/step - loss: 0.0019 - accuracy: 1.0000\n",
      "Epoch 59/100\n",
      "64/64 [==============================] - 17s 260ms/step - loss: 8.8584e-04 - accuracy: 1.0000\n",
      "Epoch 60/100\n",
      "64/64 [==============================] - 17s 260ms/step - loss: 0.0015 - accuracy: 1.0000\n",
      "Epoch 61/100\n",
      "64/64 [==============================] - 17s 261ms/step - loss: 6.5598e-04 - accuracy: 1.0000\n",
      "Epoch 62/100\n",
      "64/64 [==============================] - 17s 259ms/step - loss: 4.8132e-04 - accuracy: 1.0000\n",
      "Epoch 63/100\n",
      "64/64 [==============================] - 17s 267ms/step - loss: 5.5238e-04 - accuracy: 1.0000\n",
      "Epoch 64/100\n",
      "64/64 [==============================] - 17s 259ms/step - loss: 6.5997e-04 - accuracy: 1.0000\n",
      "Epoch 65/100\n",
      "64/64 [==============================] - 17s 264ms/step - loss: 5.4793e-04 - accuracy: 1.0000\n",
      "Epoch 66/100\n",
      "64/64 [==============================] - 18s 284ms/step - loss: 3.3272e-04 - accuracy: 1.0000\n",
      "Epoch 67/100\n",
      "64/64 [==============================] - 18s 280ms/step - loss: 3.2412e-04 - accuracy: 1.0000\n",
      "Epoch 68/100\n",
      "64/64 [==============================] - 18s 275ms/step - loss: 4.5940e-04 - accuracy: 1.0000\n",
      "Epoch 69/100\n",
      "64/64 [==============================] - 18s 274ms/step - loss: 6.0488e-04 - accuracy: 1.0000\n",
      "Epoch 70/100\n",
      "64/64 [==============================] - 18s 277ms/step - loss: 7.1050e-04 - accuracy: 1.0000\n",
      "Epoch 71/100\n",
      "64/64 [==============================] - 18s 276ms/step - loss: 4.8640e-04 - accuracy: 1.0000\n",
      "Epoch 72/100\n",
      "64/64 [==============================] - 18s 274ms/step - loss: 2.5800e-04 - accuracy: 1.0000\n",
      "Epoch 73/100\n",
      "64/64 [==============================] - 18s 277ms/step - loss: 2.0079e-04 - accuracy: 1.0000\n",
      "Epoch 74/100\n",
      "64/64 [==============================] - 18s 275ms/step - loss: 2.7011e-04 - accuracy: 1.0000\n",
      "Epoch 75/100\n",
      "64/64 [==============================] - 18s 278ms/step - loss: 1.8182e-04 - accuracy: 1.0000\n",
      "Epoch 76/100\n",
      "64/64 [==============================] - 18s 278ms/step - loss: 2.4424e-04 - accuracy: 1.0000\n",
      "Epoch 77/100\n",
      "64/64 [==============================] - 18s 277ms/step - loss: 1.7424e-04 - accuracy: 1.0000\n",
      "Epoch 78/100\n",
      "64/64 [==============================] - 18s 276ms/step - loss: 1.8243e-04 - accuracy: 1.0000\n",
      "Epoch 79/100\n"
     ]
    },
    {
     "name": "stdout",
     "output_type": "stream",
     "text": [
      "64/64 [==============================] - 17s 273ms/step - loss: 1.4876e-04 - accuracy: 1.0000\n",
      "Epoch 80/100\n",
      "64/64 [==============================] - 18s 275ms/step - loss: 2.3704e-04 - accuracy: 1.0000\n",
      "Epoch 81/100\n",
      "64/64 [==============================] - 18s 278ms/step - loss: 1.3274e-04 - accuracy: 1.0000\n",
      "Epoch 82/100\n",
      "64/64 [==============================] - 18s 275ms/step - loss: 2.2699e-04 - accuracy: 1.0000\n",
      "Epoch 83/100\n",
      "64/64 [==============================] - 18s 276ms/step - loss: 1.5391e-04 - accuracy: 1.0000\n",
      "Epoch 84/100\n",
      "64/64 [==============================] - 17s 272ms/step - loss: 1.3580e-04 - accuracy: 1.0000\n",
      "Epoch 85/100\n",
      "64/64 [==============================] - 18s 276ms/step - loss: 6.8815e-05 - accuracy: 1.0000\n",
      "Epoch 86/100\n",
      "64/64 [==============================] - 17s 271ms/step - loss: 1.0677e-04 - accuracy: 1.0000\n",
      "Epoch 87/100\n",
      "64/64 [==============================] - 17s 272ms/step - loss: 2.4924e-04 - accuracy: 1.0000\n",
      "Epoch 88/100\n",
      "64/64 [==============================] - 18s 278ms/step - loss: 1.5339e-04 - accuracy: 1.0000\n",
      "Epoch 89/100\n",
      "64/64 [==============================] - 18s 276ms/step - loss: 1.0927e-04 - accuracy: 1.0000\n",
      "Epoch 90/100\n",
      "64/64 [==============================] - 18s 280ms/step - loss: 7.0435e-05 - accuracy: 1.0000\n",
      "Epoch 91/100\n",
      "64/64 [==============================] - 18s 282ms/step - loss: 1.2210e-04 - accuracy: 1.0000\n",
      "Epoch 92/100\n",
      "64/64 [==============================] - 18s 276ms/step - loss: 1.0932e-04 - accuracy: 1.0000\n",
      "Epoch 93/100\n",
      "64/64 [==============================] - 18s 285ms/step - loss: 8.9909e-05 - accuracy: 1.0000\n",
      "Epoch 94/100\n",
      "64/64 [==============================] - 18s 282ms/step - loss: 7.3738e-05 - accuracy: 1.0000\n",
      "Epoch 95/100\n",
      "64/64 [==============================] - 18s 285ms/step - loss: 9.0994e-05 - accuracy: 1.0000\n",
      "Epoch 96/100\n",
      "64/64 [==============================] - 18s 282ms/step - loss: 1.0642e-04 - accuracy: 1.0000\n",
      "Epoch 97/100\n",
      "64/64 [==============================] - 18s 283ms/step - loss: 6.7105e-05 - accuracy: 1.0000\n",
      "Epoch 98/100\n",
      "64/64 [==============================] - 18s 286ms/step - loss: 7.2440e-05 - accuracy: 1.0000\n",
      "Epoch 99/100\n",
      "64/64 [==============================] - 18s 284ms/step - loss: 1.0173e-04 - accuracy: 1.0000\n",
      "Epoch 100/100\n",
      "64/64 [==============================] - 18s 288ms/step - loss: 9.1585e-05 - accuracy: 1.0000\n"
     ]
    },
    {
     "data": {
      "text/plain": [
       "<tensorflow.python.keras.callbacks.History at 0x230827f8f88>"
      ]
     },
     "execution_count": 18,
     "metadata": {},
     "output_type": "execute_result"
    }
   ],
   "source": [
    "model = create_cnn_model(x_train)\n",
    "model.compile(loss='categorical_crossentropy', optimizer='adam', metrics=['accuracy'])\n",
    "model.fit(x_train, y_train, epochs=100)"
   ]
  },
  {
   "cell_type": "markdown",
   "metadata": {},
   "source": [
    "## Predict"
   ]
  },
  {
   "cell_type": "code",
   "execution_count": 19,
   "metadata": {},
   "outputs": [
    {
     "data": {
      "text/html": [
       "<div>\n",
       "<style scoped>\n",
       "    .dataframe tbody tr th:only-of-type {\n",
       "        vertical-align: middle;\n",
       "    }\n",
       "\n",
       "    .dataframe tbody tr th {\n",
       "        vertical-align: top;\n",
       "    }\n",
       "\n",
       "    .dataframe thead th {\n",
       "        text-align: right;\n",
       "    }\n",
       "</style>\n",
       "<table border=\"1\" class=\"dataframe\">\n",
       "  <thead>\n",
       "    <tr style=\"text-align: right;\">\n",
       "      <th></th>\n",
       "      <th>id</th>\n",
       "      <th>digit</th>\n",
       "    </tr>\n",
       "  </thead>\n",
       "  <tbody>\n",
       "    <tr>\n",
       "      <th>0</th>\n",
       "      <td>2049</td>\n",
       "      <td>6</td>\n",
       "    </tr>\n",
       "    <tr>\n",
       "      <th>1</th>\n",
       "      <td>2050</td>\n",
       "      <td>9</td>\n",
       "    </tr>\n",
       "    <tr>\n",
       "      <th>2</th>\n",
       "      <td>2051</td>\n",
       "      <td>8</td>\n",
       "    </tr>\n",
       "    <tr>\n",
       "      <th>3</th>\n",
       "      <td>2052</td>\n",
       "      <td>0</td>\n",
       "    </tr>\n",
       "    <tr>\n",
       "      <th>4</th>\n",
       "      <td>2053</td>\n",
       "      <td>3</td>\n",
       "    </tr>\n",
       "  </tbody>\n",
       "</table>\n",
       "</div>"
      ],
      "text/plain": [
       "     id  digit\n",
       "0  2049      6\n",
       "1  2050      9\n",
       "2  2051      8\n",
       "3  2052      0\n",
       "4  2053      3"
      ]
     },
     "execution_count": 19,
     "metadata": {},
     "output_type": "execute_result"
    }
   ],
   "source": [
    "x_test = test.drop(['id', 'letter'], axis=1).values\n",
    "x_test = x_test.reshape(-1, 28, 28, 1)\n",
    "x_test = x_test/255\n",
    "\n",
    "submission = pd.read_csv('data/submission.csv')\n",
    "submission['digit'] = np.argmax(model.predict(x_test), axis=1)\n",
    "submission.head()"
   ]
  },
  {
   "cell_type": "code",
   "execution_count": 20,
   "metadata": {},
   "outputs": [],
   "source": [
    "submission.to_csv('baseline_epoch100.csv', index=False)"
   ]
  },
  {
   "cell_type": "code",
   "execution_count": null,
   "metadata": {},
   "outputs": [],
   "source": []
  }
 ],
 "metadata": {
  "kernelspec": {
   "display_name": "Python 3",
   "language": "python",
   "name": "python3"
  },
  "language_info": {
   "codemirror_mode": {
    "name": "ipython",
    "version": 3
   },
   "file_extension": ".py",
   "mimetype": "text/x-python",
   "name": "python",
   "nbconvert_exporter": "python",
   "pygments_lexer": "ipython3",
   "version": "3.7.7"
  }
 },
 "nbformat": 4,
 "nbformat_minor": 4
}
