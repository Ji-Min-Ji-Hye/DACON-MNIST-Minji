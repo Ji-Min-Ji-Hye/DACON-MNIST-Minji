{
 "cells": [
  {
   "cell_type": "markdown",
   "metadata": {},
   "source": [
    "## Python import"
   ]
  },
  {
   "cell_type": "code",
   "execution_count": 41,
   "metadata": {},
   "outputs": [],
   "source": [
    "import pandas as pd\n",
    "import numpy as np\n",
    "import matplotlib.pyplot as plt\n",
    "import warnings\n",
    "warnings.filterwarnings(\"ignore\")\n",
    "import tensorflow as tf\n",
    "\n",
    "from keras import layers\n",
    "from keras import models\n",
    "from keras import Input\n",
    "from keras.models import Model\n",
    "from keras.models import Sequential\n",
    "from keras import optimizers\n",
    "from keras.layers import Dense, Activation, Flatten, Conv2D, MaxPooling2D\n",
    "from keras.utils import to_categorical\n",
    "from keras import regularizers # L2규제\n",
    "\n",
    "from tensorflow.keras.preprocessing.image import ImageDataGenerator # data augmentation\n",
    "from tensorflow.keras.callbacks import LearningRateScheduler # callbacks 설정\n",
    "\n",
    "from tqdm.notebook import tqdm # 모델학습 진행 시간 파악\n",
    "import random # random seed를 뽑을때 사용"
   ]
  },
  {
   "cell_type": "markdown",
   "metadata": {},
   "source": [
    "## Load Data"
   ]
  },
  {
   "cell_type": "code",
   "execution_count": 2,
   "metadata": {},
   "outputs": [],
   "source": [
    "train = pd.read_csv('data/train.csv')\n",
    "test = pd.read_csv('data/test.csv')"
   ]
  },
  {
   "cell_type": "markdown",
   "metadata": {},
   "source": [
    "## EDA"
   ]
  },
  {
   "cell_type": "code",
   "execution_count": 3,
   "metadata": {},
   "outputs": [
    {
     "data": {
      "image/png": "[encoded data removed]",
      "text/plain": [
       "<Figure size 432x288 with 1 Axes>"
      ]
     },
     "metadata": {
      "needs_background": "light"
     },
     "output_type": "display_data"
    }
   ],
   "source": [
    "idx = 45\n",
    "img = train.loc[idx, '0':].values.reshape(28, 28).astype(int)\n",
    "digit = train.loc[idx, 'digit']\n",
    "letter = train.loc[idx, 'letter']\n",
    "\n",
    "plt.title('Index: %i, Digit: %s, Letter: %s'%(idx, digit, letter))\n",
    "plt.imshow(img)\n",
    "plt.show()"
   ]
  },
  {
   "cell_type": "markdown",
   "metadata": {},
   "source": [
    "## Train model"
   ]
  },
  {
   "cell_type": "code",
   "execution_count": 30,
   "metadata": {},
   "outputs": [],
   "source": [
    "x_train = train.drop(['id', 'digit', 'letter'], axis=1).values\n",
    "x_train = x_train.reshape(-1, 28, 28, 1)\n",
    "x_train = x_train/255\n",
    "\n",
    "y = train['digit']\n",
    "y_train = np.zeros((len(y), len(y.unique())))\n",
    "for i, digit in enumerate(y):\n",
    "    y_train[i, digit] = 1"
   ]
  },
  {
   "cell_type": "code",
   "execution_count": 49,
   "metadata": {},
   "outputs": [],
   "source": [
    "def create_cnn_model():\n",
    "    inputs = Input(shape = (28,28,1))\n",
    "\n",
    "    bn = tf.keras.layers.BatchNormalization()(inputs)\n",
    "    conv = tf.keras.layers.Conv2D(128, kernel_size=5, strides=1, padding='same', activation='relu',kernel_regularizer = regularizers.l2(0.001))(bn)\n",
    "    bn = tf.keras.layers.BatchNormalization()(conv)\n",
    "    conv = tf.keras.layers.Conv2D(128, kernel_size=2, strides=1, padding='same', activation='relu')(bn)\n",
    "    pool = tf.keras.layers.MaxPooling2D((2, 2))(conv)\n",
    "\n",
    "    bn = tf.keras.layers.BatchNormalization()(pool)\n",
    "    conv = tf.keras.layers.Conv2D(256, kernel_size=2, strides=1, padding='same', activation='relu',kernel_regularizer = regularizers.l2(0.001))(bn)\n",
    "    bn = tf.keras.layers.BatchNormalization()(conv)\n",
    "    conv = tf.keras.layers.Conv2D(256, kernel_size=2, strides=1, padding='same', activation='relu')(bn)\n",
    "    pool = tf.keras.layers.MaxPooling2D((2, 2))(conv)\n",
    "\n",
    "    flatten = tf.keras.layers.Flatten()(pool)\n",
    "\n",
    "    bn = tf.keras.layers.BatchNormalization()(flatten)\n",
    "    dense = tf.keras.layers.Dense(1000, activation='relu')(bn)\n",
    "\n",
    "    bn = tf.keras.layers.BatchNormalization()(dense)\n",
    "    outputs = tf.keras.layers.Dense(10, activation='softmax')(bn)\n",
    "\n",
    "    model = tf.keras.models.Model(inputs=inputs, outputs=outputs)\n",
    "    model.compile(loss='categorical_crossentropy', optimizer='adam', metrics=['accuracy'])\n",
    "    \n",
    "    return model"
   ]
  },
  {
   "cell_type": "code",
   "execution_count": 50,
   "metadata": {},
   "outputs": [
    {
     "name": "stdout",
     "output_type": "stream",
     "text": [
      "Model: \"model_7\"\n",
      "_________________________________________________________________\n",
      "Layer (type)                 Output Shape              Param #   \n",
      "=================================================================\n",
      "input_8 (InputLayer)         [(None, 28, 28, 1)]       0         \n",
      "_________________________________________________________________\n",
      "batch_normalization_42 (Batc (None, 28, 28, 1)         4         \n",
      "_________________________________________________________________\n",
      "conv2d_28 (Conv2D)           (None, 28, 28, 128)       3328      \n",
      "_________________________________________________________________\n",
      "batch_normalization_43 (Batc (None, 28, 28, 128)       512       \n",
      "_________________________________________________________________\n",
      "conv2d_29 (Conv2D)           (None, 28, 28, 128)       65664     \n",
      "_________________________________________________________________\n",
      "max_pooling2d_14 (MaxPooling (None, 14, 14, 128)       0         \n",
      "_________________________________________________________________\n",
      "batch_normalization_44 (Batc (None, 14, 14, 128)       512       \n",
      "_________________________________________________________________\n",
      "conv2d_30 (Conv2D)           (None, 14, 14, 256)       131328    \n",
      "_________________________________________________________________\n",
      "batch_normalization_45 (Batc (None, 14, 14, 256)       1024      \n",
      "_________________________________________________________________\n",
      "conv2d_31 (Conv2D)           (None, 14, 14, 256)       262400    \n",
      "_________________________________________________________________\n",
      "max_pooling2d_15 (MaxPooling (None, 7, 7, 256)         0         \n",
      "_________________________________________________________________\n",
      "flatten_7 (Flatten)          (None, 12544)             0         \n",
      "_________________________________________________________________\n",
      "batch_normalization_46 (Batc (None, 12544)             50176     \n",
      "_________________________________________________________________\n",
      "dense_14 (Dense)             (None, 1000)              12545000  \n",
      "_________________________________________________________________\n",
      "batch_normalization_47 (Batc (None, 1000)              4000      \n",
      "_________________________________________________________________\n",
      "dense_15 (Dense)             (None, 10)                10010     \n",
      "=================================================================\n",
      "Total params: 13,073,958\n",
      "Trainable params: 13,045,844\n",
      "Non-trainable params: 28,114\n",
      "_________________________________________________________________\n"
     ]
    }
   ],
   "source": [
    "create_cnn_model().summary()"
   ]
  },
  {
   "cell_type": "code",
   "execution_count": 51,
   "metadata": {
    "scrolled": true
   },
   "outputs": [
    {
     "name": "stdout",
     "output_type": "stream",
     "text": [
      "Epoch 1/50\n",
      "64/64 [==============================] - 18s 283ms/step - loss: 3.3465 - accuracy: 0.2920 - lr: 0.0010\n",
      "Epoch 2/50\n",
      "64/64 [==============================] - 18s 281ms/step - loss: 1.9378 - accuracy: 0.4380 - lr: 9.5000e-04\n",
      "Epoch 3/50\n",
      "64/64 [==============================] - 17s 273ms/step - loss: 1.7037 - accuracy: 0.4951 - lr: 9.0250e-04\n",
      "Epoch 4/50\n",
      "64/64 [==============================] - 18s 275ms/step - loss: 1.5034 - accuracy: 0.5493 - lr: 8.5737e-04\n",
      "Epoch 5/50\n",
      "64/64 [==============================] - 18s 277ms/step - loss: 1.4176 - accuracy: 0.5898 - lr: 8.1451e-04\n",
      "Epoch 6/50\n",
      "64/64 [==============================] - 17s 271ms/step - loss: 1.2615 - accuracy: 0.6289 - lr: 7.7378e-04\n",
      "Epoch 7/50\n",
      "64/64 [==============================] - 18s 275ms/step - loss: 1.1285 - accuracy: 0.6724 - lr: 7.3509e-04\n",
      "Epoch 8/50\n",
      "64/64 [==============================] - 17s 272ms/step - loss: 1.0695 - accuracy: 0.6895 - lr: 6.9834e-04\n",
      "Epoch 9/50\n",
      "64/64 [==============================] - 18s 275ms/step - loss: 0.9596 - accuracy: 0.7153 - lr: 6.6342e-04\n",
      "Epoch 10/50\n",
      "64/64 [==============================] - 18s 275ms/step - loss: 0.8990 - accuracy: 0.7397 - lr: 6.3025e-04\n",
      "Epoch 11/50\n",
      "64/64 [==============================] - 17s 272ms/step - loss: 0.8139 - accuracy: 0.7671 - lr: 5.9874e-04\n",
      "Epoch 12/50\n",
      "64/64 [==============================] - 18s 280ms/step - loss: 0.8426 - accuracy: 0.7573 - lr: 5.6880e-04\n",
      "Epoch 13/50\n",
      "64/64 [==============================] - 17s 273ms/step - loss: 0.7423 - accuracy: 0.7939 - lr: 5.4036e-04\n",
      "Epoch 14/50\n",
      "64/64 [==============================] - 17s 273ms/step - loss: 0.7269 - accuracy: 0.8008 - lr: 5.1334e-04\n",
      "Epoch 15/50\n",
      "64/64 [==============================] - 17s 273ms/step - loss: 0.6247 - accuracy: 0.8350 - lr: 4.8767e-04\n",
      "Epoch 16/50\n",
      "64/64 [==============================] - 18s 274ms/step - loss: 0.5807 - accuracy: 0.8535 - lr: 4.6329e-04\n",
      "Epoch 17/50\n",
      "64/64 [==============================] - 18s 276ms/step - loss: 0.5611 - accuracy: 0.8589 - lr: 4.4013e-04\n",
      "Epoch 18/50\n",
      "64/64 [==============================] - 18s 278ms/step - loss: 0.5471 - accuracy: 0.8579 - lr: 4.1812e-04\n",
      "Epoch 19/50\n",
      "64/64 [==============================] - 18s 277ms/step - loss: 0.5143 - accuracy: 0.8682 - lr: 3.9721e-04\n",
      "Epoch 20/50\n",
      "64/64 [==============================] - 18s 275ms/step - loss: 0.4789 - accuracy: 0.8784 - lr: 3.7735e-04\n",
      "Epoch 21/50\n",
      "64/64 [==============================] - 18s 274ms/step - loss: 0.4774 - accuracy: 0.8896 - lr: 3.5849e-04\n",
      "Epoch 22/50\n",
      "64/64 [==============================] - 18s 276ms/step - loss: 0.4284 - accuracy: 0.9019 - lr: 3.4056e-04\n",
      "Epoch 23/50\n",
      "64/64 [==============================] - 18s 275ms/step - loss: 0.4439 - accuracy: 0.8823 - lr: 3.2353e-04\n",
      "Epoch 24/50\n",
      "64/64 [==============================] - 18s 277ms/step - loss: 0.3979 - accuracy: 0.9067 - lr: 3.0736e-04\n",
      "Epoch 25/50\n",
      "64/64 [==============================] - 18s 279ms/step - loss: 0.3694 - accuracy: 0.9199 - lr: 2.9199e-04\n",
      "Epoch 26/50\n",
      "64/64 [==============================] - 18s 277ms/step - loss: 0.3570 - accuracy: 0.9185 - lr: 2.7739e-04\n",
      "Epoch 27/50\n",
      "64/64 [==============================] - 18s 276ms/step - loss: 0.3553 - accuracy: 0.9155 - lr: 2.6352e-04\n",
      "Epoch 28/50\n",
      "64/64 [==============================] - 18s 274ms/step - loss: 0.3171 - accuracy: 0.9351 - lr: 2.5034e-04\n",
      "Epoch 29/50\n",
      "64/64 [==============================] - 17s 272ms/step - loss: 0.3405 - accuracy: 0.9219 - lr: 2.3783e-04\n",
      "Epoch 30/50\n",
      "64/64 [==============================] - 18s 277ms/step - loss: 0.3213 - accuracy: 0.9331 - lr: 2.2594e-04\n",
      "Epoch 31/50\n",
      "64/64 [==============================] - 17s 273ms/step - loss: 0.2833 - accuracy: 0.9404 - lr: 2.1464e-04\n",
      "Epoch 32/50\n",
      "64/64 [==============================] - 18s 276ms/step - loss: 0.2840 - accuracy: 0.9399 - lr: 2.0391e-04\n",
      "Epoch 33/50\n",
      "64/64 [==============================] - 18s 278ms/step - loss: 0.2870 - accuracy: 0.9395 - lr: 1.9371e-04\n",
      "Epoch 34/50\n",
      "64/64 [==============================] - 18s 275ms/step - loss: 0.2636 - accuracy: 0.9492 - lr: 1.8403e-04\n",
      "Epoch 35/50\n",
      "64/64 [==============================] - 18s 274ms/step - loss: 0.2401 - accuracy: 0.9546 - lr: 1.7482e-04\n",
      "Epoch 36/50\n",
      "64/64 [==============================] - 17s 272ms/step - loss: 0.2525 - accuracy: 0.9502 - lr: 1.6608e-04\n",
      "Epoch 37/50\n",
      "64/64 [==============================] - 18s 275ms/step - loss: 0.2387 - accuracy: 0.9551 - lr: 1.5778e-04\n",
      "Epoch 38/50\n",
      "64/64 [==============================] - 18s 274ms/step - loss: 0.2206 - accuracy: 0.9614 - lr: 1.4989e-04\n",
      "Epoch 39/50\n",
      "64/64 [==============================] - 18s 278ms/step - loss: 0.2141 - accuracy: 0.9658 - lr: 1.4240e-04\n",
      "Epoch 40/50\n",
      "64/64 [==============================] - 18s 275ms/step - loss: 0.2394 - accuracy: 0.9507 - lr: 1.3528e-04\n",
      "Epoch 41/50\n",
      "64/64 [==============================] - 17s 273ms/step - loss: 0.2217 - accuracy: 0.9658 - lr: 1.2851e-04\n",
      "Epoch 42/50\n",
      "64/64 [==============================] - 18s 274ms/step - loss: 0.1988 - accuracy: 0.9678 - lr: 1.2209e-04\n",
      "Epoch 43/50\n",
      "64/64 [==============================] - 18s 273ms/step - loss: 0.1948 - accuracy: 0.9688 - lr: 1.1598e-04\n",
      "Epoch 44/50\n",
      "64/64 [==============================] - 18s 276ms/step - loss: 0.1933 - accuracy: 0.9668 - lr: 1.1018e-04\n",
      "Epoch 45/50\n",
      "64/64 [==============================] - 18s 276ms/step - loss: 0.1928 - accuracy: 0.9678 - lr: 1.0467e-04\n",
      "Epoch 46/50\n",
      "64/64 [==============================] - 17s 273ms/step - loss: 0.1890 - accuracy: 0.9751 - lr: 9.9440e-05\n",
      "Epoch 47/50\n",
      "64/64 [==============================] - 18s 275ms/step - loss: 0.1802 - accuracy: 0.9756 - lr: 9.4468e-05\n",
      "Epoch 48/50\n",
      "64/64 [==============================] - 17s 273ms/step - loss: 0.1778 - accuracy: 0.9746 - lr: 8.9745e-05\n",
      "Epoch 49/50\n",
      "64/64 [==============================] - 18s 275ms/step - loss: 0.1775 - accuracy: 0.9775 - lr: 8.5258e-05\n",
      "Epoch 50/50\n",
      "64/64 [==============================] - 17s 273ms/step - loss: 0.1579 - accuracy: 0.9795 - lr: 8.0995e-05\n"
     ]
    }
   ],
   "source": [
    "annealer = LearningRateScheduler(lambda x: 1e-3 * 0.95 ** x)\n",
    "\n",
    "# 이미지 증식 사용\n",
    "datagen = ImageDataGenerator(\n",
    "    featurewise_center=False,\n",
    "    samplewise_center=False, \n",
    "    featurewise_std_normalization=False,\n",
    "    samplewise_std_normalization=False, \n",
    "    zca_whitening=False,  \n",
    "    rotation_range=10,  \n",
    "    zoom_range = 0.1, \n",
    "    width_shift_range=0.1,\n",
    "    height_shift_range=0.1,\n",
    "    horizontal_flip=False, \n",
    "    vertical_flip=False)\n",
    "\n",
    "model = create_cnn_model()\n",
    "epochs=50\n",
    "\n",
    "#model.fit(x_train, y_train, epochs=50)\n",
    "\n",
    "history = model.fit(\n",
    "  datagen.flow(x_train, y_train, batch_size=32),\n",
    "  epochs=epochs, \n",
    "  steps_per_epoch = x_train.shape[0]//32,\n",
    "  callbacks=[annealer], \n",
    "  verbose = 1\n",
    ")"
   ]
  },
  {
   "cell_type": "markdown",
   "metadata": {},
   "source": [
    "## Predict"
   ]
  },
  {
   "cell_type": "code",
   "execution_count": 52,
   "metadata": {},
   "outputs": [
    {
     "data": {
      "text/html": [
       "<div>\n",
       "<style scoped>\n",
       "    .dataframe tbody tr th:only-of-type {\n",
       "        vertical-align: middle;\n",
       "    }\n",
       "\n",
       "    .dataframe tbody tr th {\n",
       "        vertical-align: top;\n",
       "    }\n",
       "\n",
       "    .dataframe thead th {\n",
       "        text-align: right;\n",
       "    }\n",
       "</style>\n",
       "<table border=\"1\" class=\"dataframe\">\n",
       "  <thead>\n",
       "    <tr style=\"text-align: right;\">\n",
       "      <th></th>\n",
       "      <th>id</th>\n",
       "      <th>digit</th>\n",
       "    </tr>\n",
       "  </thead>\n",
       "  <tbody>\n",
       "    <tr>\n",
       "      <th>0</th>\n",
       "      <td>2049</td>\n",
       "      <td>8</td>\n",
       "    </tr>\n",
       "    <tr>\n",
       "      <th>1</th>\n",
       "      <td>2050</td>\n",
       "      <td>8</td>\n",
       "    </tr>\n",
       "    <tr>\n",
       "      <th>2</th>\n",
       "      <td>2051</td>\n",
       "      <td>8</td>\n",
       "    </tr>\n",
       "    <tr>\n",
       "      <th>3</th>\n",
       "      <td>2052</td>\n",
       "      <td>0</td>\n",
       "    </tr>\n",
       "    <tr>\n",
       "      <th>4</th>\n",
       "      <td>2053</td>\n",
       "      <td>3</td>\n",
       "    </tr>\n",
       "  </tbody>\n",
       "</table>\n",
       "</div>"
      ],
      "text/plain": [
       "     id  digit\n",
       "0  2049      8\n",
       "1  2050      8\n",
       "2  2051      8\n",
       "3  2052      0\n",
       "4  2053      3"
      ]
     },
     "execution_count": 52,
     "metadata": {},
     "output_type": "execute_result"
    }
   ],
   "source": [
    "x_test = test.drop(['id', 'letter'], axis=1).values\n",
    "x_test = x_test.reshape(-1, 28, 28, 1)\n",
    "x_test = x_test/255\n",
    "\n",
    "submission = pd.read_csv('data/submission.csv')\n",
    "submission['digit'] = np.argmax(model.predict(x_test), axis=1)\n",
    "submission.head()"
   ]
  },
  {
   "cell_type": "code",
   "execution_count": 53,
   "metadata": {},
   "outputs": [],
   "source": [
    "submission.to_csv('epoch50_L2_2번.csv', index=False)"
   ]
  },
  {
   "cell_type": "code",
   "execution_count": null,
   "metadata": {},
   "outputs": [],
   "source": []
  }
 ],
 "metadata": {
  "kernelspec": {
   "display_name": "Python 3",
   "language": "python",
   "name": "python3"
  },
  "language_info": {
   "codemirror_mode": {
    "name": "ipython",
    "version": 3
   },
   "file_extension": ".py",
   "mimetype": "text/x-python",
   "name": "python",
   "nbconvert_exporter": "python",
   "pygments_lexer": "ipython3",
   "version": "3.7.7"
  }
 },
 "nbformat": 4,
 "nbformat_minor": 4
}
